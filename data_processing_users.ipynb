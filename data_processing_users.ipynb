{
 "cells": [
  {
   "cell_type": "code",
   "execution_count": 1,
   "id": "13bdcdb4",
   "metadata": {},
   "outputs": [],
   "source": [
    "import gzip\n",
    "import pickle\n",
    "\n",
    "import pandas as pd\n",
    "\n",
    "import folium"
   ]
  },
  {
   "cell_type": "code",
   "execution_count": 3,
   "id": "bcb6b5c2",
   "metadata": {},
   "outputs": [],
   "source": [
    "import warnings\n",
    "warnings.filterwarnings(\"ignore\")"
   ]
  },
  {
   "cell_type": "code",
   "execution_count": 4,
   "id": "6b95ffca",
   "metadata": {},
   "outputs": [],
   "source": [
    "def readGz(path):\n",
    "    for l in gzip.open(path, 'rt'):\n",
    "        yield eval(l)"
   ]
  },
  {
   "cell_type": "code",
   "execution_count": 5,
   "id": "df276b8d",
   "metadata": {},
   "outputs": [],
   "source": [
    "# Users\n",
    "users_data = readGz(\"users.clean.json.gz\")\n",
    "users_df = pd.DataFrame(users_data)"
   ]
  },
  {
   "cell_type": "code",
   "execution_count": 6,
   "id": "1b050fec",
   "metadata": {},
   "outputs": [
    {
     "data": {
      "text/html": [
       "<div>\n",
       "<style scoped>\n",
       "    .dataframe tbody tr th:only-of-type {\n",
       "        vertical-align: middle;\n",
       "    }\n",
       "\n",
       "    .dataframe tbody tr th {\n",
       "        vertical-align: top;\n",
       "    }\n",
       "\n",
       "    .dataframe thead th {\n",
       "        text-align: right;\n",
       "    }\n",
       "</style>\n",
       "<table border=\"1\" class=\"dataframe\">\n",
       "  <thead>\n",
       "    <tr style=\"text-align: right;\">\n",
       "      <th></th>\n",
       "      <th>userName</th>\n",
       "      <th>jobs</th>\n",
       "      <th>currentPlace</th>\n",
       "      <th>previousPlaces</th>\n",
       "      <th>education</th>\n",
       "      <th>gPlusUserId</th>\n",
       "    </tr>\n",
       "  </thead>\n",
       "  <tbody>\n",
       "    <tr>\n",
       "      <th>0</th>\n",
       "      <td>an lam</td>\n",
       "      <td>[[Tổng công ty IDICO, Chuyên viên Kỹ thuật XD,...</td>\n",
       "      <td>[Thành phố Hồ Chí Minh, Việt Nam, [[], 1082309...</td>\n",
       "      <td>[[tp. Nam Định, Nam Định, Việt Nam, [[], 20420...</td>\n",
       "      <td>[[[], [], [], [], [], 6], [[Đại học Kiến trúc ...</td>\n",
       "      <td>100000010817154263736</td>\n",
       "    </tr>\n",
       "    <tr>\n",
       "      <th>1</th>\n",
       "      <td>HALİL TURGUT</td>\n",
       "      <td>[[Mustafa Nevzat İlaç San. A.Ş., Rebrezant, []...</td>\n",
       "      <td>[Adana, [[], 370000000, 353213330, 1]]</td>\n",
       "      <td>None</td>\n",
       "      <td>[[[], [], [], [], [], 6], [[Anadolu University...</td>\n",
       "      <td>100000013500285534661</td>\n",
       "    </tr>\n",
       "    <tr>\n",
       "      <th>2</th>\n",
       "      <td>森田さとこ</td>\n",
       "      <td>None</td>\n",
       "      <td>None</td>\n",
       "      <td>None</td>\n",
       "      <td>[[[], [], [], [], [], 6], []]</td>\n",
       "      <td>100000021336848867366</td>\n",
       "    </tr>\n",
       "    <tr>\n",
       "      <th>3</th>\n",
       "      <td>amey kore</td>\n",
       "      <td>None</td>\n",
       "      <td>None</td>\n",
       "      <td>None</td>\n",
       "      <td>[[[], [], [], [], [], 6], []]</td>\n",
       "      <td>100000030557048145331</td>\n",
       "    </tr>\n",
       "    <tr>\n",
       "      <th>4</th>\n",
       "      <td>william spindler</td>\n",
       "      <td>None</td>\n",
       "      <td>None</td>\n",
       "      <td>None</td>\n",
       "      <td>[[[], [], [], [], [], 6], []]</td>\n",
       "      <td>100000032416892623125</td>\n",
       "    </tr>\n",
       "  </tbody>\n",
       "</table>\n",
       "</div>"
      ],
      "text/plain": [
       "           userName                                               jobs  \\\n",
       "0            an lam  [[Tổng công ty IDICO, Chuyên viên Kỹ thuật XD,...   \n",
       "1      HALİL TURGUT  [[Mustafa Nevzat İlaç San. A.Ş., Rebrezant, []...   \n",
       "2             森田さとこ                                               None   \n",
       "3         amey kore                                               None   \n",
       "4  william spindler                                               None   \n",
       "\n",
       "                                        currentPlace  \\\n",
       "0  [Thành phố Hồ Chí Minh, Việt Nam, [[], 1082309...   \n",
       "1             [Adana, [[], 370000000, 353213330, 1]]   \n",
       "2                                               None   \n",
       "3                                               None   \n",
       "4                                               None   \n",
       "\n",
       "                                      previousPlaces  \\\n",
       "0  [[tp. Nam Định, Nam Định, Việt Nam, [[], 20420...   \n",
       "1                                               None   \n",
       "2                                               None   \n",
       "3                                               None   \n",
       "4                                               None   \n",
       "\n",
       "                                           education            gPlusUserId  \n",
       "0  [[[], [], [], [], [], 6], [[Đại học Kiến trúc ...  100000010817154263736  \n",
       "1  [[[], [], [], [], [], 6], [[Anadolu University...  100000013500285534661  \n",
       "2                      [[[], [], [], [], [], 6], []]  100000021336848867366  \n",
       "3                      [[[], [], [], [], [], 6], []]  100000030557048145331  \n",
       "4                      [[[], [], [], [], [], 6], []]  100000032416892623125  "
      ]
     },
     "execution_count": 6,
     "metadata": {},
     "output_type": "execute_result"
    }
   ],
   "source": [
    "users_df.head()"
   ]
  },
  {
   "cell_type": "code",
   "execution_count": 7,
   "id": "c0070c71",
   "metadata": {},
   "outputs": [
    {
     "data": {
      "text/plain": [
       "3747937"
      ]
     },
     "execution_count": 7,
     "metadata": {},
     "output_type": "execute_result"
    }
   ],
   "source": [
    "len(users_df)"
   ]
  },
  {
   "cell_type": "code",
   "execution_count": 8,
   "id": "02be9914",
   "metadata": {},
   "outputs": [],
   "source": [
    "users_df_clean = users_df[['userName', 'gPlusUserId']]"
   ]
  },
  {
   "cell_type": "code",
   "execution_count": 9,
   "id": "9acbe6f4",
   "metadata": {
    "scrolled": true
   },
   "outputs": [
    {
     "data": {
      "text/html": [
       "<div>\n",
       "<style scoped>\n",
       "    .dataframe tbody tr th:only-of-type {\n",
       "        vertical-align: middle;\n",
       "    }\n",
       "\n",
       "    .dataframe tbody tr th {\n",
       "        vertical-align: top;\n",
       "    }\n",
       "\n",
       "    .dataframe thead th {\n",
       "        text-align: right;\n",
       "    }\n",
       "</style>\n",
       "<table border=\"1\" class=\"dataframe\">\n",
       "  <thead>\n",
       "    <tr style=\"text-align: right;\">\n",
       "      <th></th>\n",
       "      <th>userName</th>\n",
       "      <th>gPlusUserId</th>\n",
       "    </tr>\n",
       "  </thead>\n",
       "  <tbody>\n",
       "    <tr>\n",
       "      <th>0</th>\n",
       "      <td>an lam</td>\n",
       "      <td>100000010817154263736</td>\n",
       "    </tr>\n",
       "    <tr>\n",
       "      <th>1</th>\n",
       "      <td>HALİL TURGUT</td>\n",
       "      <td>100000013500285534661</td>\n",
       "    </tr>\n",
       "    <tr>\n",
       "      <th>2</th>\n",
       "      <td>森田さとこ</td>\n",
       "      <td>100000021336848867366</td>\n",
       "    </tr>\n",
       "    <tr>\n",
       "      <th>3</th>\n",
       "      <td>amey kore</td>\n",
       "      <td>100000030557048145331</td>\n",
       "    </tr>\n",
       "    <tr>\n",
       "      <th>4</th>\n",
       "      <td>william spindler</td>\n",
       "      <td>100000032416892623125</td>\n",
       "    </tr>\n",
       "  </tbody>\n",
       "</table>\n",
       "</div>"
      ],
      "text/plain": [
       "           userName            gPlusUserId\n",
       "0            an lam  100000010817154263736\n",
       "1      HALİL TURGUT  100000013500285534661\n",
       "2             森田さとこ  100000021336848867366\n",
       "3         amey kore  100000030557048145331\n",
       "4  william spindler  100000032416892623125"
      ]
     },
     "execution_count": 9,
     "metadata": {},
     "output_type": "execute_result"
    }
   ],
   "source": [
    "users_df_clean.head()"
   ]
  },
  {
   "cell_type": "markdown",
   "id": "b9804eca",
   "metadata": {},
   "source": [
    "Create a map of the ID and name of the user"
   ]
  },
  {
   "cell_type": "code",
   "execution_count": 10,
   "id": "b2469917",
   "metadata": {},
   "outputs": [],
   "source": [
    "users_id_name_map = pd.Series(users_df_clean.userName.values, index=users_df_clean.gPlusUserId).to_dict()"
   ]
  },
  {
   "cell_type": "markdown",
   "id": "026d8aca",
   "metadata": {},
   "source": [
    "Save the dictionary to a file"
   ]
  },
  {
   "cell_type": "code",
   "execution_count": 11,
   "id": "83d15255",
   "metadata": {},
   "outputs": [],
   "source": [
    "with open(\"data/users_id_name.pkl\", 'wb') as f:\n",
    "    pickle.dump(users_id_name_map, f)"
   ]
  },
  {
   "cell_type": "code",
   "execution_count": 12,
   "id": "fefd5bb5",
   "metadata": {},
   "outputs": [
    {
     "name": "stdout",
     "output_type": "stream",
     "text": [
      "an lam\n",
      "william spindler\n"
     ]
    }
   ],
   "source": [
    "loaded_dict = {}\n",
    "with open(\"data/users_id_name.pkl\", 'rb') as f:\n",
    "    loaded_dict = pickle.load(f)\n",
    "\n",
    "print(loaded_dict['100000010817154263736'])\n",
    "print(loaded_dict['100000032416892623125'])"
   ]
  },
  {
   "cell_type": "markdown",
   "id": "ddf24026",
   "metadata": {},
   "source": [
    "Save the filtered data"
   ]
  },
  {
   "cell_type": "code",
   "execution_count": 13,
   "id": "3b849365",
   "metadata": {},
   "outputs": [],
   "source": [
    "users_df_clean.to_pickle(\"data/filtered_users.pkl\")"
   ]
  },
  {
   "cell_type": "code",
   "execution_count": 4,
   "id": "ec06c9ff",
   "metadata": {},
   "outputs": [],
   "source": [
    "users_df_clean = pd.read_pickle(\"data/filtered_users.pkl\")"
   ]
  },
  {
   "cell_type": "code",
   "execution_count": 5,
   "id": "b62d4ba0",
   "metadata": {},
   "outputs": [
    {
     "data": {
      "text/html": [
       "<div>\n",
       "<style scoped>\n",
       "    .dataframe tbody tr th:only-of-type {\n",
       "        vertical-align: middle;\n",
       "    }\n",
       "\n",
       "    .dataframe tbody tr th {\n",
       "        vertical-align: top;\n",
       "    }\n",
       "\n",
       "    .dataframe thead th {\n",
       "        text-align: right;\n",
       "    }\n",
       "</style>\n",
       "<table border=\"1\" class=\"dataframe\">\n",
       "  <thead>\n",
       "    <tr style=\"text-align: right;\">\n",
       "      <th></th>\n",
       "      <th>userName</th>\n",
       "      <th>gPlusUserId</th>\n",
       "    </tr>\n",
       "  </thead>\n",
       "  <tbody>\n",
       "    <tr>\n",
       "      <th>0</th>\n",
       "      <td>an lam</td>\n",
       "      <td>100000010817154263736</td>\n",
       "    </tr>\n",
       "    <tr>\n",
       "      <th>1</th>\n",
       "      <td>HALİL TURGUT</td>\n",
       "      <td>100000013500285534661</td>\n",
       "    </tr>\n",
       "    <tr>\n",
       "      <th>2</th>\n",
       "      <td>森田さとこ</td>\n",
       "      <td>100000021336848867366</td>\n",
       "    </tr>\n",
       "    <tr>\n",
       "      <th>3</th>\n",
       "      <td>amey kore</td>\n",
       "      <td>100000030557048145331</td>\n",
       "    </tr>\n",
       "    <tr>\n",
       "      <th>4</th>\n",
       "      <td>william spindler</td>\n",
       "      <td>100000032416892623125</td>\n",
       "    </tr>\n",
       "  </tbody>\n",
       "</table>\n",
       "</div>"
      ],
      "text/plain": [
       "           userName            gPlusUserId\n",
       "0            an lam  100000010817154263736\n",
       "1      HALİL TURGUT  100000013500285534661\n",
       "2             森田さとこ  100000021336848867366\n",
       "3         amey kore  100000030557048145331\n",
       "4  william spindler  100000032416892623125"
      ]
     },
     "execution_count": 5,
     "metadata": {},
     "output_type": "execute_result"
    }
   ],
   "source": [
    "users_df_clean.head()"
   ]
  },
  {
   "cell_type": "code",
   "execution_count": 6,
   "id": "b6e6660e",
   "metadata": {},
   "outputs": [
    {
     "data": {
      "text/plain": [
       "(3747937, 2)"
      ]
     },
     "execution_count": 6,
     "metadata": {},
     "output_type": "execute_result"
    }
   ],
   "source": [
    "users_df_clean.shape"
   ]
  },
  {
   "cell_type": "code",
   "execution_count": null,
   "id": "69463d45",
   "metadata": {},
   "outputs": [],
   "source": []
  }
 ],
 "metadata": {
  "kernelspec": {
   "display_name": "Python 3 (ipykernel)",
   "language": "python",
   "name": "python3"
  },
  "language_info": {
   "codemirror_mode": {
    "name": "ipython",
    "version": 3
   },
   "file_extension": ".py",
   "mimetype": "text/x-python",
   "name": "python",
   "nbconvert_exporter": "python",
   "pygments_lexer": "ipython3",
   "version": "3.9.12"
  }
 },
 "nbformat": 4,
 "nbformat_minor": 5
}
